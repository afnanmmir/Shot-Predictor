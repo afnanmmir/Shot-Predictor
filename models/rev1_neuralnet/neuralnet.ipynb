{
 "cells": [
  {
   "cell_type": "code",
   "execution_count": 1,
   "metadata": {},
   "outputs": [],
   "source": [
    "import pandas as pd\n",
    "import numpy as np\n",
    "from sklearn.model_selection import train_test_split\n",
    "from sklearn.metrics import roc_auc_score\n",
    "import pickle\n",
    "import os"
   ]
  },
  {
   "cell_type": "code",
   "execution_count": 2,
   "metadata": {},
   "outputs": [],
   "source": [
    "data = pd.read_csv(\"../rev1_catboost/newConcatVectors.csv\",header=None)\n",
    "data = data.sample(frac=1)\n",
    "data = data.reset_index(drop=True)\n",
    "labels = data[0]\n",
    "data = data.drop(0,axis='columns')\n",
    "X_train, X_test, y_train, y_test = train_test_split(data, labels, test_size=0.30, random_state=42)\n",
    "X_train = X_train.to_numpy()\n",
    "X_test = X_test.to_numpy()\n",
    "y_train = np.asarray(y_train.values.tolist())\n",
    "y_train = y_train.reshape(-1,1)\n",
    "y_test = np.asarray(y_test.values.tolist())\n",
    "y_test = y_test.reshape(-1,1)"
   ]
  },
  {
   "cell_type": "code",
   "execution_count": 3,
   "metadata": {},
   "outputs": [
    {
     "name": "stdout",
     "output_type": "stream",
     "text": [
      "(205, 2040)\n",
      "(88, 2040)\n",
      "(205, 1)\n",
      "(88, 1)\n"
     ]
    }
   ],
   "source": [
    "print(X_train.shape)\n",
    "print(X_test.shape)\n",
    "print(y_train.shape)\n",
    "print(y_test.shape)"
   ]
  },
  {
   "cell_type": "code",
   "execution_count": 4,
   "metadata": {},
   "outputs": [],
   "source": [
    "from sklearn.metrics import confusion_matrix, ConfusionMatrixDisplay, roc_auc_score, accuracy_score\n",
    "import matplotlib.pyplot as plt\n",
    "def displayStats(model,modelname: str,test: np.ndarray,truth: np.ndarray):\n",
    "    predictions = model.predict(test) #all of them should have this\n",
    "    predictions = np.around(predictions)\n",
    "    # print(predictions)\n",
    "    print(modelname+\" STATS:\")\n",
    "    print(\"ACCURACY: \"+str(accuracy_score(truth,predictions)))\n",
    "\n",
    "   #not all models have predict_proba\n",
    "    if callable(getattr(model, \"predict_proba\", None)):\n",
    "        soft_predictions = model.predict_proba(test)[:,1]\n",
    "        print(\"ROC AUC: \"+str(roc_auc_score(truth,soft_predictions)))\n",
    "    \n",
    "    cmat = confusion_matrix(truth,predictions)\n",
    "    disp = ConfusionMatrixDisplay(cmat)\n",
    "    disp.plot()\n",
    "    plt.show()"
   ]
  },
  {
   "cell_type": "markdown",
   "metadata": {},
   "source": [
    "# Training a very simple keras neural net to act as a baseline\n",
    "---"
   ]
  },
  {
   "cell_type": "code",
   "execution_count": 6,
   "metadata": {},
   "outputs": [
    {
     "name": "stdout",
     "output_type": "stream",
     "text": [
      "Requirement already satisfied: keras in /home/sidharth/Documents/School/2022_2023/EE379K_ComputerVision/final_proj/Shot-Predictor/.venv/lib/python3.9/site-packages (2.10.0)\n",
      "Note: you may need to restart the kernel to use updated packages.\n"
     ]
    }
   ],
   "source": [
    "%pip install keras"
   ]
  },
  {
   "cell_type": "code",
   "execution_count": 13,
   "metadata": {},
   "outputs": [],
   "source": [
    "from keras import Sequential\n",
    "from keras.layers import Activation, Dense\n",
    "model = Sequential()\n",
    "model.add(Dense(512, activation='relu', input_shape=(X_train.shape[1], )))\n",
    "model.add(Dense(512, activation='relu'))\n",
    "model.add(Dense(512, activation='relu')) \n",
    "model.add(Dense(512, activation='relu'))\n",
    "model.add(Dense(1, activation='sigmoid'))\n",
    "model.compile(optimizer='adam', loss='binary_crossentropy', metrics=['accuracy'])"
   ]
  },
  {
   "cell_type": "code",
   "execution_count": 14,
   "metadata": {},
   "outputs": [
    {
     "name": "stdout",
     "output_type": "stream",
     "text": [
      "4/4 [==============================] - 1s 9ms/step - loss: 1.1463 - accuracy: 0.5392\n"
     ]
    },
    {
     "data": {
      "text/plain": [
       "<keras.callbacks.History at 0x7f7422da31f0>"
      ]
     },
     "execution_count": 14,
     "metadata": {},
     "output_type": "execute_result"
    }
   ],
   "source": [
    "model.fit(X_train,y_train)"
   ]
  },
  {
   "cell_type": "code",
   "execution_count": 15,
   "metadata": {},
   "outputs": [
    {
     "name": "stdout",
     "output_type": "stream",
     "text": [
      "2/2 [==============================] - 0s 7ms/step\n",
      "Keras NN STATS:\n",
      "ACCURACY: 0.5555555555555556\n"
     ]
    },
    {
     "data": {
      "image/png": "[encoded data removed]",
      "text/plain": [
       "<Figure size 640x480 with 2 Axes>"
      ]
     },
     "metadata": {},
     "output_type": "display_data"
    }
   ],
   "source": [
    "displayStats(model, \"Keras NN\", X_test, y_test)"
   ]
  }
 ],
 "metadata": {
  "kernelspec": {
   "display_name": "Python 3.8.13 ('ECE379K')",
   "language": "python",
   "name": "python3"
  },
  "language_info": {
   "codemirror_mode": {
    "name": "ipython",
    "version": 3
   },
   "file_extension": ".py",
   "mimetype": "text/x-python",
   "name": "python",
   "nbconvert_exporter": "python",
   "pygments_lexer": "ipython3",
   "version": "3.8.13"
  },
  "orig_nbformat": 4,
  "vscode": {
   "interpreter": {
    "hash": "178c8cdd3e104eac05c13369471a968202033328bd75058e8e9da6ad82d38a4c"
   }
  }
 },
 "nbformat": 4,
 "nbformat_minor": 2
}
