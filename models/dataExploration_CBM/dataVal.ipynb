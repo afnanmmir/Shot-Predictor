{
 "cells": [
  {
   "cell_type": "code",
   "execution_count": 1,
   "metadata": {},
   "outputs": [],
   "source": [
    "import pandas as pd\n",
    "import numpy as np\n",
    "from sklearn.model_selection import train_test_split\n",
    "from sklearn.metrics import roc_auc_score, accuracy_score\n",
    "import pickle\n",
    "import os"
   ]
  },
  {
   "cell_type": "code",
   "execution_count": 2,
   "metadata": {},
   "outputs": [],
   "source": [
    "def modelAccuracy(modelname, predictions, test_gs):\n",
    "    mcounter = 0\n",
    "    for i in range(len(predictions)):\n",
    "        if(predictions[i]!=test_gs[i]):\n",
    "            mcounter+=1\n",
    "    return (1-(mcounter/len(predictions)))\n"
   ]
  },
  {
   "cell_type": "code",
   "execution_count": 3,
   "metadata": {},
   "outputs": [],
   "source": [
    "def displayStats(predictions, truth):\n",
    "    from sklearn.metrics import confusion_matrix, ConfusionMatrixDisplay\n",
    "    import matplotlib.pyplot as plt\n",
    "    cmat = confusion_matrix(truth,predictions)\n",
    "    disp = ConfusionMatrixDisplay(cmat)\n",
    "    disp.plot()\n",
    "    plt.show()"
   ]
  },
  {
   "cell_type": "markdown",
   "metadata": {},
   "source": [
    "# Generate accuracy histograms for rev2_catboost random frame classification model\n",
    "\n",
    "---"
   ]
  },
  {
   "cell_type": "code",
   "execution_count": 32,
   "metadata": {},
   "outputs": [],
   "source": [
    "import pandas as pd\n",
    "import numpy as np\n",
    "from sklearn.model_selection import train_test_split\n",
    "from sklearn.metrics import roc_auc_score\n",
    "import pickle\n",
    "import os\n",
    "from catboost import CatBoostClassifier\n",
    "import pickle\n",
    "from matplotlib import pyplot as plt\n",
    "import numpy\n",
    "\n",
    "def genCBMHistogram(datafile: str, numRuns: int, dumpfile: str):\n",
    "    #histograms\n",
    "    accuracies = []\n",
    "    roc_aucs = []\n",
    "\n",
    "    for i in range(numRuns):\n",
    "        #create dataset for this run\n",
    "        data = pd.read_csv(f\"{datafile}\",header=None)\n",
    "        data = data.sample(frac=1)\n",
    "        data = data.reset_index(drop=True)\n",
    "        labels = data[0]\n",
    "        data = data.drop(0,axis='columns')\n",
    "        X_train, X_test, y_train, y_test = train_test_split(data, labels, test_size=0.3)\n",
    "        X_train = X_train.to_numpy()\n",
    "        X_test = X_test.to_numpy()\n",
    "        y_train = np.asarray(y_train.values.tolist())\n",
    "        y_train = y_train.reshape(-1,1)\n",
    "        y_test = np.asarray(y_test.values.tolist())\n",
    "        y_test = y_test.reshape(-1,1)\n",
    "\n",
    "        #fit classifier\n",
    "        cbm = CatBoostClassifier(silent = True)\n",
    "        cbm.fit(X_train,y_train)\n",
    "\n",
    "        #predict and get values\n",
    "        pred_test = cbm.predict(X_test)\n",
    "        soft_preds = cbm.predict_proba(X_test)[:,1]\n",
    "        # accuracy = modelAccuracy(\"CatBoost\", pred_test, y_test)\n",
    "        accuracy = accuracy_score(y_test,pred_test)\n",
    "        accuracies.append(accuracy)\n",
    "        # print(accuracy)\n",
    "        roc_auc = roc_auc_score(y_test,soft_preds)\n",
    "        roc_aucs.append(roc_aucs)\n",
    "\n",
    "        del cbm, pred_test, soft_preds, accuracy, roc_auc\n",
    "        \n",
    "    with open(dumpfile+\"_accuracies.pk1\", \"wb\") as file:\n",
    "        pickle.dump(accuracies,file)\n",
    "    with open(dumpfile+\"_rocaucs.pk1\",\"wb\") as file:\n",
    "        pickle.dump(roc_aucs,file)\n",
    "    \n",
    "    return accuracies, roc_aucs"
   ]
  },
  {
   "cell_type": "code",
   "execution_count": 33,
   "metadata": {},
   "outputs": [],
   "source": [
    "# orig_concat_accuracy, orig_concat_roc_auc = genCBMHistogram(\"concatVectors/original_concatVectors.csv\",100)\n",
    "# zayam_concat_accuracy, zayam_concat_roc_auc = genCBMHistogram(\"concatVectors/zayam_concatVectors.csv\",100)\n",
    "# combined_concat_accuracy, combined_concat_roc_auc = genCBMHistogram(\"concatVectors/combined_concatVectors.csv\",100)\n",
    "\n",
    "orig_nonconcat_accuracy, orig_nonconcat_roc_auc = genCBMHistogram(\"nonConcatVectors/set1_data_nonconcat.csv\",100,\"orig_nonconcat\")"
   ]
  },
  {
   "cell_type": "code",
   "execution_count": 34,
   "metadata": {},
   "outputs": [
    {
     "data": {
      "image/png": "[encoded data removed]",
      "text/plain": [
       "<Figure size 432x288 with 1 Axes>"
      ]
     },
     "metadata": {
      "needs_background": "light"
     },
     "output_type": "display_data"
    },
    {
     "data": {
      "text/plain": [
       "<Figure size 432x288 with 0 Axes>"
      ]
     },
     "execution_count": 34,
     "metadata": {},
     "output_type": "execute_result"
    },
    {
     "data": {
      "text/plain": [
       "<Figure size 432x288 with 0 Axes>"
      ]
     },
     "metadata": {},
     "output_type": "display_data"
    }
   ],
   "source": [
    "from matplotlib import pyplot as pyplot\n",
    "\n",
    "plt.hist(orig_nonconcat_accuracy,bins=100)\n",
    "plt.title(\"original nonconcat accuracy\")\n",
    "plt.show()\n",
    "plt.figure()"
   ]
  },
  {
   "cell_type": "code",
   "execution_count": 35,
   "metadata": {},
   "outputs": [],
   "source": [
    "zayam_nonconcat_accuracy, zayam_nonconcat_roc_auc = genCBMHistogram(\"nonConcatVectors/set2_data_nonconcat.csv\",100,\"zayam_nonconcat\")"
   ]
  },
  {
   "cell_type": "code",
   "execution_count": 36,
   "metadata": {},
   "outputs": [
    {
     "data": {
      "image/png": "[encoded data removed]",
      "text/plain": [
       "<Figure size 432x288 with 1 Axes>"
      ]
     },
     "metadata": {
      "needs_background": "light"
     },
     "output_type": "display_data"
    },
    {
     "data": {
      "text/plain": [
       "<Figure size 432x288 with 0 Axes>"
      ]
     },
     "execution_count": 36,
     "metadata": {},
     "output_type": "execute_result"
    },
    {
     "data": {
      "text/plain": [
       "<Figure size 432x288 with 0 Axes>"
      ]
     },
     "metadata": {},
     "output_type": "display_data"
    }
   ],
   "source": [
    "plt.hist(zayam_nonconcat_accuracy, bins=100)\n",
    "plt.title('zayam nonconcat accuracy')\n",
    "plt.show()\n",
    "plt.figure()"
   ]
  },
  {
   "cell_type": "code",
   "execution_count": 44,
   "metadata": {},
   "outputs": [],
   "source": [
    "combined_nonconcat_accuracy, combined_nonconcat_roc_auc = genCBMHistogram(\"nonConcatVectors/combined_data_nonconcat.csv\",100,\"combined_noncat\")"
   ]
  },
  {
   "cell_type": "code",
   "execution_count": 38,
   "metadata": {},
   "outputs": [
    {
     "data": {
      "image/png": "[encoded data removed]",
      "text/plain": [
       "<Figure size 432x288 with 1 Axes>"
      ]
     },
     "metadata": {
      "needs_background": "light"
     },
     "output_type": "display_data"
    },
    {
     "data": {
      "text/plain": [
       "<Figure size 432x288 with 0 Axes>"
      ]
     },
     "execution_count": 38,
     "metadata": {},
     "output_type": "execute_result"
    },
    {
     "data": {
      "text/plain": [
       "<Figure size 432x288 with 0 Axes>"
      ]
     },
     "metadata": {},
     "output_type": "display_data"
    }
   ],
   "source": [
    "plt.hist(combined_nonconcat_accuracy, bins=100)\n",
    "plt.title('combined nonconcat accuracy')\n",
    "plt.show()\n",
    "plt.figure()"
   ]
  }
 ],
 "metadata": {
  "kernelspec": {
   "display_name": "Python 3.9.12 ('base')",
   "language": "python",
   "name": "python3"
  },
  "language_info": {
   "codemirror_mode": {
    "name": "ipython",
    "version": 3
   },
   "file_extension": ".py",
   "mimetype": "text/x-python",
   "name": "python",
   "nbconvert_exporter": "python",
   "pygments_lexer": "ipython3",
   "version": "3.9.12"
  },
  "orig_nbformat": 4,
  "vscode": {
   "interpreter": {
    "hash": "4cd688424c29bba5266b80f730f3c56405e5cb29d491ff3ed6c5c7f9d320e997"
   }
  }
 },
 "nbformat": 4,
 "nbformat_minor": 2
}
