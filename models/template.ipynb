{
 "cells": [
  {
   "cell_type": "code",
   "execution_count": 1,
   "metadata": {},
   "outputs": [],
   "source": [
    "import pandas as pd\n",
    "import numpy as np\n",
    "from sklearn.model_selection import train_test_split\n",
    "from sklearn.metrics import roc_auc_score\n",
    "import pickle\n",
    "import os"
   ]
  },
  {
   "cell_type": "code",
   "execution_count": null,
   "metadata": {},
   "outputs": [],
   "source": [
    "data = pd.read_csv(\"data.csv\",header=None)\n",
    "data = data.sample(frac=1)\n",
    "data = data.reset_index(drop=True)\n",
    "labels = data[0]\n",
    "data = data.drop(0,axis='columns')\n",
    "X_train, X_test, y_train, y_test = train_test_split(data, labels, test_size=0.30)\n",
    "X_train = X_train.to_numpy()\n",
    "X_test = X_test.to_numpy()\n",
    "y_train = np.asarray(y_train.values.tolist())\n",
    "y_train = y_train.reshape(-1,1)\n",
    "y_test = np.asarray(y_test.values.tolist())\n",
    "y_test = y_test.reshape(-1,1)"
   ]
  },
  {
   "cell_type": "code",
   "execution_count": 6,
   "metadata": {},
   "outputs": [
    {
     "name": "stdout",
     "output_type": "stream",
     "text": [
      "(102, 2040)\n",
      "(45, 2040)\n",
      "(1, 102)\n",
      "(1, 45)\n"
     ]
    }
   ],
   "source": [
    "print(X_train.shape)\n",
    "print(X_test.shape)\n",
    "print(y_train.shape)\n",
    "print(y_test.shape)"
   ]
  },
  {
   "cell_type": "code",
   "execution_count": 7,
   "metadata": {},
   "outputs": [],
   "source": [
    "from sklearn.metrics import confusion_matrix, ConfusionMatrixDisplay, roc_auc_score, accuracy_score\n",
    "import matplotlib.pyplot as plt\n",
    "import numpy as np\n",
    "def displayStats(modelname: str,truth: np.ndarray, preds: np.ndarray,softpreds = np.asarray([])):\n",
    "    print(modelname+\" STATS:\")\n",
    "    print(\"ACCURACY: \"+str(accuracy_score(truth,predictions)))\n",
    "\n",
    "\n",
    "    #not all models have predict_proba\n",
    "    if(softpreds.size!=0):\n",
    "        print(\"ROC AUC: \"+str(roc_auc_score(truth,soft_predictions)))\n",
    "    \n",
    "    cmat = confusion_matrix(truth,predictions)\n",
    "    disp = ConfusionMatrixDisplay(cmat)\n",
    "    disp.plot()\n",
    "    plt.show()"
   ]
  }
 ],
 "metadata": {
  "kernelspec": {
   "display_name": "Python 3.9.12 ('.venv': venv)",
   "language": "python",
   "name": "python3"
  },
  "language_info": {
   "codemirror_mode": {
    "name": "ipython",
    "version": 3
   },
   "file_extension": ".py",
   "mimetype": "text/x-python",
   "name": "python",
   "nbconvert_exporter": "python",
   "pygments_lexer": "ipython3",
   "version": "3.9.12"
  },
  "orig_nbformat": 4,
  "vscode": {
   "interpreter": {
    "hash": "5eea3c5150ca7da814f918590095cf33da52d01fcbac34c29be15935182569a1"
   }
  }
 },
 "nbformat": 4,
 "nbformat_minor": 2
}
