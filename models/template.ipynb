{
 "cells": [
  {
   "cell_type": "code",
   "execution_count": null,
   "metadata": {},
   "outputs": [],
   "source": [
    "import pandas as pd\n",
    "import numpy as np\n",
    "from sklearn.model_selection import train_test_split\n",
    "from sklearn.metrics import roc_auc_score\n",
    "import pickle\n",
    "import os"
   ]
  },
  {
   "cell_type": "code",
   "execution_count": null,
   "metadata": {},
   "outputs": [],
   "source": [
    "data = pd.read_csv(\"data.csv\",header=None)\n",
    "data = data.sample(frac=1)\n",
    "data = data.reset_index(drop=True)\n",
    "labels = data[0]\n",
    "data = data.drop(0,axis='columns')\n",
    "X_train, X_test, y_train, y_test = train_test_split(data, labels, test_size=0.30, random_state=42)\n",
    "X_train = X_train.to_numpy()\n",
    "X_test = X_test.to_numpy()\n",
    "y_train = np.asarray(y_train.values.tolist())\n",
    "y_train = y_train.reshape(1,y_train.shape[0])\n",
    "y_test = np.asarray(y_test.values.tolist())\n",
    "y_test = y_test.reshape(1,y_test.shape[0])"
   ]
  },
  {
   "cell_type": "code",
   "execution_count": null,
   "metadata": {},
   "outputs": [],
   "source": [
    "def modelAccuracy(modelname, predictions, test_gs):\n",
    "    mcounter = 0\n",
    "    for i in range(len(predictions)):\n",
    "        if(predictions[i]!=test_gs[i]):\n",
    "            mcounter+=1\n",
    "    print(str(modelname)+\" accuracy: \"+str((1-(mcounter/len(predictions)))))\n",
    "    return (1-(mcounter/len(predictions)))"
   ]
  },
  {
   "cell_type": "code",
   "execution_count": 1,
   "metadata": {},
   "outputs": [],
   "source": [
    "from sklearn.metrics import confusion_matrix, ConfusionMatrixDisplay\n",
    "import matplotlib.pyplot as plt\n",
    "def displayStats(predictions, truth):\n",
    "    cmat = confusion_matrix(y_test.values.tolist(),pred_test)\n",
    "    disp = ConfusionMatrixDisplay(cmat)\n",
    "    disp.plot()\n",
    "    plt.show()"
   ]
  }
 ],
 "metadata": {
  "kernelspec": {
   "display_name": "Python 3.9.12 ('.venv': venv)",
   "language": "python",
   "name": "python3"
  },
  "language_info": {
   "codemirror_mode": {
    "name": "ipython",
    "version": 3
   },
   "file_extension": ".py",
   "mimetype": "text/x-python",
   "name": "python",
   "nbconvert_exporter": "python",
   "pygments_lexer": "ipython3",
   "version": "3.9.12"
  },
  "orig_nbformat": 4,
  "vscode": {
   "interpreter": {
    "hash": "5eea3c5150ca7da814f918590095cf33da52d01fcbac34c29be15935182569a1"
   }
  }
 },
 "nbformat": 4,
 "nbformat_minor": 2
}
