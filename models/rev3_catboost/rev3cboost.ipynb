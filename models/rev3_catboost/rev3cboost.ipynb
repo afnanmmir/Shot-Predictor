{
 "cells": [
  {
   "cell_type": "code",
   "execution_count": 15,
   "metadata": {},
   "outputs": [],
   "source": [
    "import pandas as pd\n",
    "import numpy as np\n",
    "from sklearn.model_selection import train_test_split\n",
    "from sklearn.metrics import roc_auc_score\n",
    "import pickle\n",
    "import os"
   ]
  },
  {
   "cell_type": "code",
   "execution_count": 16,
   "metadata": {},
   "outputs": [],
   "source": [
    "data = pd.read_csv(\"data_nonconcat.csv\",header=None)\n",
    "data = data.sample(frac=1)\n",
    "data = data.reset_index(drop=True)\n",
    "labels = data[0]\n",
    "data = data.drop(0,axis='columns')\n",
    "X_train, X_test, y_train, y_test = train_test_split(data, labels, test_size=0.30)\n",
    "X_train = X_train.to_numpy()\n",
    "X_test = X_test.to_numpy()\n",
    "y_train = np.asarray(y_train.values.tolist())\n",
    "y_train = y_train.reshape(-1,1)\n",
    "y_test = np.asarray(y_test.values.tolist())\n",
    "y_test = y_test.reshape(-1,1)"
   ]
  },
  {
   "cell_type": "code",
   "execution_count": 17,
   "metadata": {},
   "outputs": [
    {
     "name": "stdout",
     "output_type": "stream",
     "text": [
      "(8820, 34)\n",
      "(6174, 34)\n",
      "(2646, 34)\n",
      "(6174, 1)\n",
      "(2646, 1)\n"
     ]
    }
   ],
   "source": [
    "print(data.shape)\n",
    "print(X_train.shape)\n",
    "print(X_test.shape)\n",
    "print(y_train.shape)\n",
    "print(y_test.shape)"
   ]
  },
  {
   "cell_type": "code",
   "execution_count": 119,
   "metadata": {},
   "outputs": [],
   "source": [
    "from sklearn.metrics import confusion_matrix, ConfusionMatrixDisplay, roc_auc_score, accuracy_score\n",
    "import seaborn\n",
    "import matplotlib.pyplot as plt\n",
    "def displayStats(model,modelname: str,test: np.ndarray,truth: np.ndarray):\n",
    "    predictions = model.predict(test) #all of them should have this\n",
    "    print(modelname+\" STATS:\")\n",
    "    print(\"ACCURACY: \"+str(accuracy_score(truth,predictions)))\n",
    "\n",
    "    cmat = confusion_matrix(truth,predictions)\n",
    "    # plt.imshow(cmat,cmap='hot',interpolation='nearest')\n",
    "    # plt.show()\n",
    "    # print(cmat)\n",
    "    disp = ConfusionMatrixDisplay(cmat)\n",
    "    disp.plot()\n",
    "    plt.show()"
   ]
  },
  {
   "cell_type": "markdown",
   "metadata": {},
   "source": [
    "# Catboost Classifier - Revision 3\n",
    "\n",
    "This classifier is based upon the conclusions in rev2, and will attempt to create a multiclass frame classifier, and then apply it to classifying clips.\n",
    "\n",
    "---"
   ]
  },
  {
   "cell_type": "markdown",
   "metadata": {},
   "source": [
    "1) Import the concat vectors that represent each clip"
   ]
  },
  {
   "cell_type": "code",
   "execution_count": 19,
   "metadata": {},
   "outputs": [],
   "source": [
    "data_C = pd.read_csv(\"data_concat.csv\",header=None)\n",
    "data_C = data_C.sample(frac=1)\n",
    "data_C = data_C.reset_index(drop=True)\n",
    "labels_C = data_C[0]\n",
    "data_C = data_C.drop(0,axis='columns')\n",
    "X_train_C, X_test_C, y_train_C, y_test_C = train_test_split(data_C, labels_C, test_size=0.30, random_state=42)\n",
    "X_train_C = X_train_C.to_numpy()\n",
    "X_test_C = X_test_C.to_numpy()\n",
    "y_train_C = np.asarray(y_train_C.values.tolist())\n",
    "y_train_C = y_train_C.reshape(-1,1)\n",
    "y_test_C = np.asarray(y_test_C.values.tolist())\n",
    "y_test_C = y_test_C.reshape(-1,1)"
   ]
  },
  {
   "cell_type": "markdown",
   "metadata": {},
   "source": [
    "2) Reshape the data portions of the vector into frames"
   ]
  },
  {
   "cell_type": "code",
   "execution_count": 20,
   "metadata": {},
   "outputs": [
    {
     "name": "stdout",
     "output_type": "stream",
     "text": [
      "CONCAT DATA SHAPES AFTER RESHAPING\n",
      "(6120, 34)\n",
      "(2700, 34)\n"
     ]
    }
   ],
   "source": [
    "newdimx_train = (X_train_C.shape[0] * X_train_C.shape[1])/34\n",
    "X_train_Cr = np.reshape(X_train_C,(int(newdimx_train),34))\n",
    "\n",
    "newdimx_test = (X_test_C.shape[0]*X_test_C.shape[1])/34\n",
    "X_test_Cr = np.reshape(X_test_C,(int(newdimx_test),34))\n",
    "\n",
    "print(\"CONCAT DATA SHAPES AFTER RESHAPING\")\n",
    "print(X_train_Cr.shape)\n",
    "print(X_test_Cr.shape)"
   ]
  },
  {
   "cell_type": "markdown",
   "metadata": {},
   "source": [
    "3) Relabel for multiclass"
   ]
  },
  {
   "cell_type": "code",
   "execution_count": 21,
   "metadata": {},
   "outputs": [
    {
     "name": "stdout",
     "output_type": "stream",
     "text": [
      "LABEL SHAPES BEFORE STRETCHING\n",
      "(102, 1)\n",
      "(45, 1)\n",
      "LABEL SHAPES AFTER STRETCHING\n",
      "(6120, 1)\n",
      "(2700, 1)\n"
     ]
    }
   ],
   "source": [
    "print(\"LABEL SHAPES BEFORE STRETCHING\")\n",
    "print(y_train_C.shape)\n",
    "print(y_test_C.shape)\n",
    "\n",
    "y_train_Cr = np.asarray([])\n",
    "y_test_Cr = np.asarray([])\n",
    "\n",
    "# for each element, if element equals 1, insert 1-60 into the new label vector\n",
    "# if element equals 0, insert -1 to -60 into the label vector\n",
    "for label in y_train_C:\n",
    "    if(label == 1):\n",
    "        nlabels = np.arange(1,61,1)\n",
    "        y_train_Cr = np.concatenate((y_train_Cr,nlabels))\n",
    "    else:\n",
    "        nlabels = np.arange(-1,-61,-1)\n",
    "        y_train_Cr = np.concatenate((y_train_Cr,nlabels))\n",
    "\n",
    "for label in y_test_C:\n",
    "    if(label == 1):\n",
    "        nlabels = np.arange(1,61,1)\n",
    "        y_test_Cr = np.concatenate((y_test_Cr,nlabels))\n",
    "    else:\n",
    "        nlabels = np.arange(-1,-61,-1)\n",
    "        y_test_Cr = np.concatenate((y_test_Cr,nlabels))\n",
    "        \n",
    "\n",
    "\n",
    "print(\"LABEL SHAPES AFTER STRETCHING\")\n",
    "y_train_Cr = y_train_Cr.reshape((-1,1))\n",
    "print(y_train_Cr.shape)\n",
    "y_test_Cr = y_test_Cr.reshape((-1,1))\n",
    "print(y_test_Cr.shape)"
   ]
  },
  {
   "cell_type": "markdown",
   "metadata": {},
   "source": [
    "4) Train the multiclass classifier"
   ]
  },
  {
   "cell_type": "code",
   "execution_count": 22,
   "metadata": {},
   "outputs": [
    {
     "data": {
      "text/plain": [
       "<catboost.core.CatBoostClassifier at 0x7efd73598f40>"
      ]
     },
     "execution_count": 22,
     "metadata": {},
     "output_type": "execute_result"
    }
   ],
   "source": [
    "from catboost import CatBoostClassifier\n",
    "cbm = CatBoostClassifier(silent = True)\n",
    "cbm.fit(X_train_Cr,y_train_Cr)"
   ]
  },
  {
   "cell_type": "markdown",
   "metadata": {},
   "source": [
    "5) Check frame by frame stats"
   ]
  },
  {
   "cell_type": "code",
   "execution_count": 23,
   "metadata": {},
   "outputs": [
    {
     "name": "stdout",
     "output_type": "stream",
     "text": [
      "CATBOOST REV 3 STATS:\n",
      "ACCURACY: 0.034444444444444444\n"
     ]
    },
    {
     "data": {
      "image/png": "[encoded data removed]",
      "text/plain": [
       "<Figure size 640x480 with 1 Axes>"
      ]
     },
     "metadata": {},
     "output_type": "display_data"
    }
   ],
   "source": [
    "displayStats(cbm, \"CATBOOST REV 3\", X_test_Cr, y_test_Cr)"
   ]
  },
  {
   "cell_type": "markdown",
   "metadata": {},
   "source": [
    "We can see that this classifier performs very poorly. The accuracy is extremely low, and while we can see some semblance of a primary diagonal in the confusion matrix, it is very scattershot, and is not clean. As such, using a singular classifier to classify this many classes may not be viable."
   ]
  },
  {
   "cell_type": "markdown",
   "metadata": {},
   "source": [
    "## Catboost Classifier - Revision 3\n",
    "\n",
    "This version of rev 3 is based upon the second idea at the end of rev 2's conclusions. We will try to create a multi-classifier approach with the same architecture as revision 2. The key difference being that we will have multiple classifiers working together on a clip, instead of having a singular classifier responsible for the whole thing.\n",
    "\n",
    "All of the following code is built on the assumption that each clip is 60 frames long."
   ]
  },
  {
   "cell_type": "markdown",
   "metadata": {},
   "source": [
    "1. Import the concatenated vector data so that we have an entire clip as a row"
   ]
  },
  {
   "cell_type": "code",
   "execution_count": 169,
   "metadata": {},
   "outputs": [],
   "source": [
    "data_C = pd.read_csv(\"combined_concatVectors.csv\",header=None)\n",
    "data_C = data_C.sample(frac=1)\n",
    "data_C = data_C.reset_index(drop=True)\n",
    "labels_C = data_C[0]\n",
    "data_C = data_C.drop(0,axis='columns')\n",
    "X_train_C, X_test_C, y_train_C, y_test_C = train_test_split(data_C, labels_C, test_size=0.30, random_state=42)\n",
    "X_train_C = X_train_C.to_numpy()\n",
    "X_test_C = X_test_C.to_numpy()\n",
    "y_train_C = np.asarray(y_train_C.values.tolist())\n",
    "y_train_C = y_train_C.reshape(-1,1)\n",
    "y_test_C = np.asarray(y_test_C.values.tolist())\n",
    "y_test_C = y_test_C.reshape(-1,1)"
   ]
  },
  {
   "cell_type": "code",
   "execution_count": 170,
   "metadata": {},
   "outputs": [
    {
     "name": "stdout",
     "output_type": "stream",
     "text": [
      "0.0    150\n",
      "1.0    143\n",
      "Name: 0, dtype: int64\n",
      "0.0    106\n",
      "1.0     99\n",
      "dtype: int64\n",
      "0.0    44\n",
      "1.0    44\n",
      "dtype: int64\n"
     ]
    }
   ],
   "source": [
    "print(pd.Series(labels_C).value_counts())\n",
    "print(pd.Series(y_train_C.ravel()).value_counts())\n",
    "print(pd.Series(y_test_C.ravel()).value_counts())"
   ]
  },
  {
   "cell_type": "code",
   "execution_count": 171,
   "metadata": {},
   "outputs": [
    {
     "name": "stdout",
     "output_type": "stream",
     "text": [
      "NONCONCAT DATA SHAPES\n",
      "(6174, 34)\n",
      "(2646, 34)\n",
      "(6174, 1)\n",
      "(2646, 1)\n",
      "CONCAT DATA SHAPES\n",
      "(205, 2040)\n",
      "(88, 2040)\n",
      "(205, 1)\n",
      "(88, 1)\n"
     ]
    }
   ],
   "source": [
    "print(\"NONCONCAT DATA SHAPES\")\n",
    "# print(data.shape)\n",
    "print(X_train.shape)\n",
    "print(X_test.shape)\n",
    "print(y_train.shape)\n",
    "print(y_test.shape)\n",
    "\n",
    "print(\"CONCAT DATA SHAPES\")\n",
    "# print(data_C.shape)\n",
    "print(X_train_C.shape)\n",
    "print(X_test_C.shape)\n",
    "print(y_train_C.shape)\n",
    "print(y_test_C.shape)"
   ]
  },
  {
   "cell_type": "markdown",
   "metadata": {},
   "source": [
    "2. Reshape to extract frame-by-frame "
   ]
  },
  {
   "cell_type": "code",
   "execution_count": 172,
   "metadata": {},
   "outputs": [
    {
     "name": "stdout",
     "output_type": "stream",
     "text": [
      "CONCAT DATA SHAPES AFTER RESHAPING\n",
      "(12300, 34)\n",
      "(5280, 34)\n"
     ]
    }
   ],
   "source": [
    "newdimx_train = (X_train_C.shape[0] * X_train_C.shape[1])/34\n",
    "X_train_Cr = np.reshape(X_train_C,(int(newdimx_train),34))\n",
    "\n",
    "newdimx_test = (X_test_C.shape[0]*X_test_C.shape[1])/34\n",
    "X_test_Cr = np.reshape(X_test_C,(int(newdimx_test),34))\n",
    "\n",
    "print(\"CONCAT DATA SHAPES AFTER RESHAPING\")\n",
    "print(X_train_Cr.shape)\n",
    "print(X_test_Cr.shape)\n"
   ]
  },
  {
   "cell_type": "markdown",
   "metadata": {},
   "source": [
    "3. Stretch the y-labels of training and test set to fit the reshaped arrays"
   ]
  },
  {
   "cell_type": "code",
   "execution_count": 173,
   "metadata": {},
   "outputs": [
    {
     "name": "stdout",
     "output_type": "stream",
     "text": [
      "LABEL SHAPES BEFORE STRETCHING\n",
      "(205, 1)\n",
      "(88, 1)\n",
      "LABEL SHAPES AFTER STRETCHING\n",
      "(12300, 1)\n",
      "(5280, 1)\n"
     ]
    }
   ],
   "source": [
    "print(\"LABEL SHAPES BEFORE STRETCHING\")\n",
    "print(y_train_C.shape)\n",
    "print(y_test_C.shape)\n",
    "\n",
    "y_train_Cr = np.copy(y_train_C)\n",
    "y_test_Cr = np.copy(y_test_C)\n",
    "\n",
    "y_train_Cr = np.repeat(y_train_Cr,(X_train_Cr.shape[0])/(y_train_Cr.shape[0]))\n",
    "y_train_Cr = np.reshape(y_train_Cr,(-1,1))\n",
    "y_test_Cr = np.repeat(y_test_Cr,(X_test_Cr.shape[0])/(y_test_Cr.shape[0]))\n",
    "y_test_Cr = np.reshape(y_test_Cr,(-1,1))\n",
    "\n",
    "print(\"LABEL SHAPES AFTER STRETCHING\")\n",
    "print(y_train_Cr.shape)\n",
    "print(y_test_Cr.shape)"
   ]
  },
  {
   "cell_type": "markdown",
   "metadata": {},
   "source": [
    "4. Train 4 classifiers to fit on quarters of each clip\n",
    "- Create 4 seperated datasets that comprise a quarter of the frames each.\n",
    "- Create classifiers for each of the seperated datasets"
   ]
  },
  {
   "cell_type": "code",
   "execution_count": 174,
   "metadata": {},
   "outputs": [],
   "source": [
    "frames_per_clip = int(y_train_Cr.shape[0] / y_train_C.shape[0]) #should evaluate to 60 frames"
   ]
  },
  {
   "cell_type": "code",
   "execution_count": 175,
   "metadata": {},
   "outputs": [
    {
     "name": "stdout",
     "output_type": "stream",
     "text": [
      "(4, 3075, 34)\n",
      "(4, 3075, 1)\n"
     ]
    }
   ],
   "source": [
    "x_train_cr_splits = [[],[],[],[]]\n",
    "y_train_cr_splits = [[],[],[],[]]\n",
    "numclips = X_train_C.shape[0]\n",
    "for i in range(numclips):\n",
    "    clip = X_train_Cr[i*frames_per_clip:(i+1)*frames_per_clip] \n",
    "    labels = y_train_Cr[i*frames_per_clip:(i+1)*frames_per_clip]\n",
    "    for i in range(4):\n",
    "        subclip = clip[i*int(clip.shape[0]/4):(i+1)*int(clip.shape[0]/4)]\n",
    "        sublabel = labels[i*int(labels.shape[0]/4):(i+1)*int(labels.shape[0]/4)]\n",
    "        x_train_cr_splits[i] = x_train_cr_splits[i]+subclip.tolist()\n",
    "        y_train_cr_splits[i] = y_train_cr_splits[i] + sublabel.tolist()\n",
    "\n",
    "x_train_cr_splits = np.asarray(x_train_cr_splits)\n",
    "y_train_cr_splits = np.asarray(y_train_cr_splits)\n",
    "print(x_train_cr_splits.shape)\n",
    "print(y_train_cr_splits.shape)"
   ]
  },
  {
   "cell_type": "code",
   "execution_count": 176,
   "metadata": {},
   "outputs": [
    {
     "name": "stdout",
     "output_type": "stream",
     "text": [
      "(4, 1320, 34)\n",
      "(4, 1320, 1)\n"
     ]
    }
   ],
   "source": [
    "x_test_cr_splits = [[],[],[],[]]\n",
    "y_test_cr_splits = [[],[],[],[]]\n",
    "numclips = X_test_C.shape[0]\n",
    "for i in range(numclips):\n",
    "    clip = X_test_Cr[i*frames_per_clip:(i+1)*frames_per_clip]\n",
    "    labels = y_test_Cr[i*frames_per_clip:(i+1)*frames_per_clip]\n",
    "    for i in range(4):\n",
    "        subclip = clip[i*int(clip.shape[0]/4):(i+1)*int(clip.shape[0]/4)]\n",
    "        sublabel = labels[i*int(labels.shape[0]/4):(i+1)*int(labels.shape[0]/4)]\n",
    "        x_test_cr_splits[i] = x_test_cr_splits[i]+subclip.tolist()\n",
    "        y_test_cr_splits[i] = y_test_cr_splits[i] + sublabel.tolist()\n",
    "\n",
    "x_test_cr_splits = np.asarray(x_test_cr_splits)\n",
    "y_test_cr_splits = np.asarray(y_test_cr_splits)\n",
    "print(x_test_cr_splits.shape)\n",
    "print(y_test_cr_splits.shape)"
   ]
  },
  {
   "cell_type": "code",
   "execution_count": 177,
   "metadata": {},
   "outputs": [
    {
     "data": {
      "text/plain": [
       "<catboost.core.CatBoostClassifier at 0x7efd7342f2b0>"
      ]
     },
     "execution_count": 177,
     "metadata": {},
     "output_type": "execute_result"
    }
   ],
   "source": [
    "from catboost import CatBoostClassifier\n",
    "cbm1 = CatBoostClassifier(silent= True)\n",
    "cbm2 = CatBoostClassifier(silent= True)\n",
    "cbm3 = CatBoostClassifier(silent= True)\n",
    "cbm4 = CatBoostClassifier(silent= True)\n",
    "\n",
    "cbm1.fit(x_train_cr_splits[0],y_train_cr_splits[0])\n",
    "cbm2.fit(x_train_cr_splits[1],y_train_cr_splits[1])\n",
    "cbm3.fit(x_train_cr_splits[2],y_train_cr_splits[2])\n",
    "cbm4.fit(x_train_cr_splits[3],y_train_cr_splits[3])"
   ]
  },
  {
   "cell_type": "code",
   "execution_count": 178,
   "metadata": {},
   "outputs": [
    {
     "name": "stdout",
     "output_type": "stream",
     "text": [
      "CBM1 STATS:\n",
      "ACCURACY: 0.5787878787878787\n"
     ]
    },
    {
     "data": {
      "image/png": "[encoded data removed]",
      "text/plain": [
       "<Figure size 640x480 with 2 Axes>"
      ]
     },
     "metadata": {},
     "output_type": "display_data"
    },
    {
     "name": "stdout",
     "output_type": "stream",
     "text": [
      "CBM2 STATS:\n",
      "ACCURACY: 0.621969696969697\n"
     ]
    },
    {
     "data": {
      "image/png": "[encoded data removed]",
      "text/plain": [
       "<Figure size 640x480 with 2 Axes>"
      ]
     },
     "metadata": {},
     "output_type": "display_data"
    },
    {
     "name": "stdout",
     "output_type": "stream",
     "text": [
      "CBM3 STATS:\n",
      "ACCURACY: 0.6227272727272727\n"
     ]
    },
    {
     "data": {
      "image/png": "[encoded data removed]",
      "text/plain": [
       "<Figure size 640x480 with 2 Axes>"
      ]
     },
     "metadata": {},
     "output_type": "display_data"
    },
    {
     "name": "stdout",
     "output_type": "stream",
     "text": [
      "CBM4 STATS:\n",
      "ACCURACY: 0.5871212121212122\n"
     ]
    },
    {
     "data": {
      "image/png": "[encoded data removed]",
      "text/plain": [
       "<Figure size 640x480 with 2 Axes>"
      ]
     },
     "metadata": {},
     "output_type": "display_data"
    }
   ],
   "source": [
    "displayStats(cbm1,\"CBM1\",x_test_cr_splits[0],y_test_cr_splits[0])\n",
    "displayStats(cbm2,\"CBM2\",x_test_cr_splits[1],y_test_cr_splits[1])\n",
    "displayStats(cbm3,\"CBM3\",x_test_cr_splits[2],y_test_cr_splits[2])\n",
    "displayStats(cbm4,\"CBM4\",x_test_cr_splits[3],y_test_cr_splits[3])"
   ]
  },
  {
   "cell_type": "markdown",
   "metadata": {},
   "source": [
    "5) Classify 60 frames at a time (one clip) and take a majority consensus to classify a clip."
   ]
  },
  {
   "cell_type": "code",
   "execution_count": 179,
   "metadata": {},
   "outputs": [
    {
     "name": "stderr",
     "output_type": "stream",
     "text": [
      "/home/sidharth/Documents/School/2022_2023/EE379K_ComputerVision/final_proj/Shot-Predictor/.venv/lib/python3.9/site-packages/numpy/lib/function_base.py:518: RuntimeWarning: Mean of empty slice.\n",
      "  avg = a.mean(axis, **keepdims_kw)\n",
      "/home/sidharth/Documents/School/2022_2023/EE379K_ComputerVision/final_proj/Shot-Predictor/.venv/lib/python3.9/site-packages/numpy/core/_methods.py:190: RuntimeWarning: invalid value encountered in double_scalars\n",
      "  ret = ret.dtype.type(ret / rcount)\n"
     ]
    }
   ],
   "source": [
    "preds = []\n",
    "softpreds = []\n",
    "predictors=[cbm1,cbm2,cbm3,cbm4]\n",
    "for clip in X_test_C: # go over all of the clips concat vectors in X_test_C\n",
    "    clip = np.reshape(clip,(1,-1))\n",
    "    numrows = int((clip.shape[0]*clip.shape[1])/34) #should be 60 for our standard, but this keeps it dynamic\n",
    "    numcols = int((clip.shape[0]*clip.shape[1])/numrows) #should always end up as 34\n",
    "    clip = np.reshape(clip,(numrows, numcols))\n",
    "\n",
    "    subPredictions = [] #slice the clip into four sections, and generate a prediction for each of those sections\n",
    "    subSoftPredictions = []\n",
    "    for i in range(4):\n",
    "        subclip = clip[\n",
    "            int(i*(numrows/4)):\n",
    "            int((i+1)*(numrows/4))\n",
    "        ]\n",
    "        predictions = predictors[i].predict(subclip) #frame by frame prediction vector with appropriate predictor\n",
    "        softpredictions = predictors[i].predict(subclip) #frame by frame softpred vector with appropariate predictor\n",
    "        softavgpred = np.average(subSoftPredictions) #average soft prediction\n",
    "        prediction = np.sum(predictions) #create composite hard pred\n",
    "        if(prediction < (predictions.shape[0]/2)):\n",
    "            prediction = 0\n",
    "        else:\n",
    "            prediction = 1\n",
    "        subPredictions.append(prediction)\n",
    "        subSoftPredictions.append(softavgpred)\n",
    "\n",
    "    #use sub predictions to make clip prediction\n",
    "    clipPrediction = np.sum(subPredictions)\n",
    "    if(clipPrediction<(len(subPredictions)/2)):\n",
    "        clipPrediction = 0\n",
    "    else:\n",
    "        clipPrediction = 1\n",
    "\n",
    "    clipSoftPred = np.average(subSoftPredictions)\n",
    "\n",
    "    preds.append(clipPrediction)\n",
    "    softpreds.append(clipSoftPred)\n",
    "preds = np.asarray(preds)\n",
    "softpreds = np.asarray(softpreds)"
   ]
  },
  {
   "cell_type": "markdown",
   "metadata": {},
   "source": [
    "6. Evaluate the accuracy of our predictions"
   ]
  },
  {
   "cell_type": "code",
   "execution_count": 180,
   "metadata": {},
   "outputs": [
    {
     "name": "stdout",
     "output_type": "stream",
     "text": [
      "ACCURACY: 0.6477272727272727\n"
     ]
    },
    {
     "data": {
      "image/png": "[encoded data removed]",
      "text/plain": [
       "<Figure size 640x480 with 2 Axes>"
      ]
     },
     "metadata": {},
     "output_type": "display_data"
    }
   ],
   "source": [
    "from sklearn.metrics import confusion_matrix, ConfusionMatrixDisplay, roc_auc_score, accuracy_score\n",
    "import matplotlib.pyplot as plt\n",
    "\n",
    "preds = np.reshape(preds,(-1,1))\n",
    "print(\"ACCURACY: \"+str(accuracy_score(y_test_C,preds)))\n",
    "# print(\"ROC AUC: \"+str(roc_auc_score(y_test_C,softpreds)))\n",
    "\n",
    "cmat = confusion_matrix(y_test_C,preds)\n",
    "disp = ConfusionMatrixDisplay(cmat)\n",
    "disp.plot()\n",
    "plt.show()"
   ]
  }
 ],
 "metadata": {
  "kernelspec": {
   "display_name": "Python 3.9.12 ('.venv': venv)",
   "language": "python",
   "name": "python3"
  },
  "language_info": {
   "codemirror_mode": {
    "name": "ipython",
    "version": 3
   },
   "file_extension": ".py",
   "mimetype": "text/x-python",
   "name": "python",
   "nbconvert_exporter": "python",
   "pygments_lexer": "ipython3",
   "version": "3.9.12"
  },
  "orig_nbformat": 4,
  "vscode": {
   "interpreter": {
    "hash": "5eea3c5150ca7da814f918590095cf33da52d01fcbac34c29be15935182569a1"
   }
  }
 },
 "nbformat": 4,
 "nbformat_minor": 2
}
